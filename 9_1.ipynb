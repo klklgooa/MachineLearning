{
  "nbformat": 4,
  "nbformat_minor": 0,
  "metadata": {
    "colab": {
      "provenance": [],
      "authorship_tag": "ABX9TyPa9q3cic5I94G2v7+bYTX7",
      "include_colab_link": true
    },
    "kernelspec": {
      "name": "python3",
      "display_name": "Python 3"
    },
    "language_info": {
      "name": "python"
    }
  },
  "cells": [
    {
      "cell_type": "markdown",
      "metadata": {
        "id": "view-in-github",
        "colab_type": "text"
      },
      "source": [
        "<a href=\"https://colab.research.google.com/github/klklgooa/MachineLearning/blob/main/9_1.ipynb\" target=\"_parent\"><img src=\"https://colab.research.google.com/assets/colab-badge.svg\" alt=\"Open In Colab\"/></a>"
      ]
    },
    {
      "cell_type": "markdown",
      "source": [
        "순차데이터: 텍스트나 시계열 데이터와 같이 순서에 의미가 있는 데이터. 예) 글, 대화, 일자별 날시, 일자별 판매 실적\n",
        "\n",
        "순환신경망: 순차 데이터에 잘 맞는 인공 신경망. 순차 데이터를 처리하기 위해 순환층을 1개 이상 사용한 신경망 == 순환 신경망\n",
        "\n",
        "셀: 순환 신경망의 순환층. 하나의 셀에 여러개의 뉴런 포함\n",
        "\n",
        "은닉 상태: 순환 신경망에서의 셀의 출력. 은닉 상태는 다음 층으로 전달 될 뿐만 아니라 셀이 다음 타임스텝의 데이터를 처리할 때 재사용"
      ],
      "metadata": {
        "id": "TAwgeAzK_PPu"
      }
    }
  ]
}