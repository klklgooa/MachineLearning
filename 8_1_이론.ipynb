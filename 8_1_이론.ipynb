{
  "nbformat": 4,
  "nbformat_minor": 0,
  "metadata": {
    "colab": {
      "provenance": [],
      "authorship_tag": "ABX9TyPoYLQ+8TJfFGpEEx2rXtsD",
      "include_colab_link": true
    },
    "kernelspec": {
      "name": "python3",
      "display_name": "Python 3"
    },
    "language_info": {
      "name": "python"
    }
  },
  "cells": [
    {
      "cell_type": "markdown",
      "metadata": {
        "id": "view-in-github",
        "colab_type": "text"
      },
      "source": [
        "<a href=\"https://colab.research.google.com/github/klklgooa/MachineLearning/blob/main/8_1_%EC%9D%B4%EB%A1%A0.ipynb\" target=\"_parent\"><img src=\"https://colab.research.google.com/assets/colab-badge.svg\" alt=\"Open In Colab\"/></a>"
      ]
    },
    {
      "cell_type": "markdown",
      "source": [
        "# **합성곱 신경망**\n",
        "합성곱: 노드한개에 들어온 input과 가중치를 곱하고 더함. 바이어스도 더함\n",
        "합성곱 층의 뉴런: 예) 10개 인풋 8개 출력\n",
        "필터 == 커널 로 정의.\n",
        "\n",
        "특성 맵: 합성곱 계산을 통해 얻은 출력으로 활성화 함수가 적용된 값 (2차원에 필터를 적용해 나온 층을 겹쳐놓은 형태)\n",
        "\n",
        "합성곱 신경망: 2차원 구조를 그대로 사용하기 때문에 합성곱 신경망이 이미지 처리 분야에 뛰어난 성능, 1개 이상의 함성곱 층을 쓴 인공 신경망을 의미.\n",
        "\n"
      ],
      "metadata": {
        "id": "iRg78fOSGT1V"
      }
    },
    {
      "cell_type": "markdown",
      "source": [
        "패딩: 커널크기를 고정하면서도 출력의 크기를 입력과 동일하게 만들기 위해 입력 배열 주위를 가상의 원소로 채우는 것. 실제 이력값은 아니므로 0으로 채워지며 계산에영향을 주지 않음.\n",
        "\n",
        "1. 세임 패딩: 입력과 특성 맵의 크기를 동일하게만들기위해 입력 주위에 0으로 패딩하는 것.\n",
        "2. 벨리드 패딩: 아웃풋이 줄어듦.\n",
        "\n",
        "모서리에 있는 값이 커널에 적용되지 않아 특성 맵으로 전달되지 않을 가능성이 높고 가운데 정보만 두드러지게 표현될 수 있기 때문에 사용함.\n",
        "\n",
        "스트라이드: 합성곱 연산에서 커널이 이동하는 칸 수. 기본값은 1. 합성곱 연산횟수와 특성 맵의 크기를 줄이는 역할을 함. 자주 사용은 x.\n",
        "\n",
        "\n",
        "풀링: 특성 맵의 가로세로 크기를 줄이는 역할을 함. 그러나 특성 맵의 개수는 줄이지 않음. 스트라이드를 크게 하여 특성 맵을 줄이는 것보다 풀링 층에서 크기를 줄이는 것이 겨험적으로 더 나은 성능을 내기때문에 사용.\n",
        "\n",
        "1.Max풀링: 특정 크기의 커널을 적용해 최대값만 나오게 함\n",
        "2.평균풀링: 커널에 적용된 것의 평균값을 출력\n",
        "\n",
        "합성곱 풀링 합성곱 풀링 .... 밀집층(클래스 갯수에 따라\n",
        "노드를 두고 소프트맥스함수 등,, 사용)\n",
        "\n",
        "\n",
        "컬러 이미지(3(r,g,b)*너비*높이)를 사용한 합성곱\n",
        "예)@@@@@\n",
        "3차원 입력 크기가 (4,4,3)\n",
        "3차원 커널 크기가 (3,3,3), 갯수는 10개\n",
        "(2,2) 특성맵이 10개.\n",
        "\n",
        "이미지 분석을 위한 합성곱 신경망 모델을 이용\n",
        "\n",
        "기본적인 특징 (직선, 곡선) 찾고 층이 깊어질수록 다양하고 구체적 특징을 감지할 수 있도록 필터의 개수를 늘림"
      ],
      "metadata": {
        "id": "1DUriWAeI0-i"
      }
    }
  ]
}